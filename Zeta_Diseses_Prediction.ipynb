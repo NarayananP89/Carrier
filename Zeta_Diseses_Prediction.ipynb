{
 "cells": [
  {
   "cell_type": "code",
   "execution_count": 310,
   "metadata": {},
   "outputs": [],
   "source": [
    "import numpy as np\n",
    "import pandas as pd\n",
    "import matplotlib.pyplot as plt\n",
    "import seaborn as sns\n",
    "import os\n",
    "\n",
    "from sklearn import metrics\n",
    "from sklearn.metrics import classification_report, confusion_matrix"
   ]
  },
  {
   "cell_type": "code",
   "execution_count": 312,
   "metadata": {},
   "outputs": [
    {
     "data": {
      "text/plain": [
       "((800, 9), (20, 9))"
      ]
     },
     "execution_count": 312,
     "metadata": {},
     "output_type": "execute_result"
    }
   ],
   "source": [
    "# File name changed from zeta-disease_training-data to train.csv\n",
    "# File name changed from zeta-disease_prediction-data to prediction.csv\n",
    "train_data = pd.read_csv(os.getcwd() + '\\\\train.csv',index_col=False)\n",
    "prediction_data = pd.read_csv(os.getcwd() + '\\\\prediction.csv',index_col=False)\n",
    "train_data.shape,prediction_data.shape"
   ]
  },
  {
   "cell_type": "code",
   "execution_count": 313,
   "metadata": {},
   "outputs": [
    {
     "data": {
      "text/plain": [
       "Index(['age', 'weight', 'bmi', 'blood_pressure', 'insulin_test',\n",
       "       'liver_stress_test', 'cardio_stress_test', 'years_smoking',\n",
       "       'zeta_disease'],\n",
       "      dtype='object')"
      ]
     },
     "execution_count": 313,
     "metadata": {},
     "output_type": "execute_result"
    }
   ],
   "source": [
    "train_data.columns"
   ]
  },
  {
   "cell_type": "code",
   "execution_count": 314,
   "metadata": {},
   "outputs": [
    {
     "data": {
      "text/plain": [
       "age                     int64\n",
       "weight                  int64\n",
       "bmi                   float64\n",
       "blood_pressure          int64\n",
       "insulin_test            int64\n",
       "liver_stress_test     float64\n",
       "cardio_stress_test      int64\n",
       "years_smoking           int64\n",
       "zeta_disease            int64\n",
       "dtype: object"
      ]
     },
     "execution_count": 314,
     "metadata": {},
     "output_type": "execute_result"
    }
   ],
   "source": [
    "train_data.dtypes"
   ]
  },
  {
   "cell_type": "code",
   "execution_count": 315,
   "metadata": {},
   "outputs": [
    {
     "data": {
      "text/plain": [
       "0    521\n",
       "1    279\n",
       "Name: zeta_disease, dtype: int64"
      ]
     },
     "execution_count": 315,
     "metadata": {},
     "output_type": "execute_result"
    }
   ],
   "source": [
    "# Checking imbalanced dataset or not\n",
    "train_data['zeta_disease'].value_counts()"
   ]
  },
  {
   "cell_type": "code",
   "execution_count": 316,
   "metadata": {},
   "outputs": [
    {
     "data": {
      "image/png": "[encoded data removed]",
      "text/plain": [
       "<Figure size 432x288 with 1 Axes>"
      ]
     },
     "metadata": {},
     "output_type": "display_data"
    }
   ],
   "source": [
    "# visualize the target variable to check the imbalanced or not (Frequency)\n",
    "g = sns.countplot(train_data['zeta_disease'])\n",
    "g.set_xticklabels(['No','Yes'])\n",
    "plt.show()"
   ]
  },
  {
   "cell_type": "code",
   "execution_count": 317,
   "metadata": {},
   "outputs": [
    {
     "name": "stderr",
     "output_type": "stream",
     "text": [
      ":FEATURES DONE:                    |                     | [  0%]   00:10  -> (00:00 left)\n",
      ":PAIRWISE DONE:                    |█████████████████████| [100%]   00:00  -> (00:00 left)\n"
     ]
    },
    {
     "name": "stdout",
     "output_type": "stream",
     "text": [
      "Creating Associations graph... DONE!\n"
     ]
    }
   ],
   "source": [
    "# Automated EDA\n",
    "import sweetviz as sv\n",
    "#analyzing the dataset\n",
    "disease_report = sv.analyze(train_data)\n",
    "#display the report\n",
    "disease_report.show_html('Diseases.html')"
   ]
  },
  {
   "cell_type": "code",
   "execution_count": 82,
   "metadata": {},
   "outputs": [
    {
     "data": {
      "text/html": [
       "<div>\n",
       "<style scoped>\n",
       "    .dataframe tbody tr th:only-of-type {\n",
       "        vertical-align: middle;\n",
       "    }\n",
       "\n",
       "    .dataframe tbody tr th {\n",
       "        vertical-align: top;\n",
       "    }\n",
       "\n",
       "    .dataframe thead th {\n",
       "        text-align: right;\n",
       "    }\n",
       "</style>\n",
       "<table border=\"1\" class=\"dataframe\">\n",
       "  <thead>\n",
       "    <tr style=\"text-align: right;\">\n",
       "      <th></th>\n",
       "      <th>age</th>\n",
       "      <th>weight</th>\n",
       "      <th>bmi</th>\n",
       "      <th>blood_pressure</th>\n",
       "      <th>insulin_test</th>\n",
       "      <th>liver_stress_test</th>\n",
       "      <th>cardio_stress_test</th>\n",
       "      <th>years_smoking</th>\n",
       "      <th>zeta_disease</th>\n",
       "    </tr>\n",
       "  </thead>\n",
       "  <tbody>\n",
       "    <tr>\n",
       "      <th>0</th>\n",
       "      <td>54</td>\n",
       "      <td>189</td>\n",
       "      <td>27.1</td>\n",
       "      <td>80</td>\n",
       "      <td>0</td>\n",
       "      <td>1.5038</td>\n",
       "      <td>0</td>\n",
       "      <td>10</td>\n",
       "      <td>0</td>\n",
       "    </tr>\n",
       "    <tr>\n",
       "      <th>1</th>\n",
       "      <td>23</td>\n",
       "      <td>150</td>\n",
       "      <td>38.5</td>\n",
       "      <td>68</td>\n",
       "      <td>71</td>\n",
       "      <td>0.3868</td>\n",
       "      <td>55</td>\n",
       "      <td>2</td>\n",
       "      <td>0</td>\n",
       "    </tr>\n",
       "    <tr>\n",
       "      <th>2</th>\n",
       "      <td>47</td>\n",
       "      <td>186</td>\n",
       "      <td>29.9</td>\n",
       "      <td>90</td>\n",
       "      <td>0</td>\n",
       "      <td>0.2728</td>\n",
       "      <td>0</td>\n",
       "      <td>7</td>\n",
       "      <td>0</td>\n",
       "    </tr>\n",
       "    <tr>\n",
       "      <th>3</th>\n",
       "      <td>18</td>\n",
       "      <td>150</td>\n",
       "      <td>30.8</td>\n",
       "      <td>70</td>\n",
       "      <td>1033</td>\n",
       "      <td>0.6598</td>\n",
       "      <td>56</td>\n",
       "      <td>0</td>\n",
       "      <td>0</td>\n",
       "    </tr>\n",
       "    <tr>\n",
       "      <th>4</th>\n",
       "      <td>24</td>\n",
       "      <td>160</td>\n",
       "      <td>32.4</td>\n",
       "      <td>74</td>\n",
       "      <td>125</td>\n",
       "      <td>0.7608</td>\n",
       "      <td>59</td>\n",
       "      <td>2</td>\n",
       "      <td>0</td>\n",
       "    </tr>\n",
       "  </tbody>\n",
       "</table>\n",
       "</div>"
      ],
      "text/plain": [
       "   age  weight   bmi  blood_pressure  insulin_test  liver_stress_test  \\\n",
       "0   54     189  27.1              80             0             1.5038   \n",
       "1   23     150  38.5              68            71             0.3868   \n",
       "2   47     186  29.9              90             0             0.2728   \n",
       "3   18     150  30.8              70          1033             0.6598   \n",
       "4   24     160  32.4              74           125             0.7608   \n",
       "\n",
       "   cardio_stress_test  years_smoking  zeta_disease  \n",
       "0                   0             10             0  \n",
       "1                  55              2             0  \n",
       "2                   0              7             0  \n",
       "3                  56              0             0  \n",
       "4                  59              2             0  "
      ]
     },
     "execution_count": 82,
     "metadata": {},
     "output_type": "execute_result"
    }
   ],
   "source": [
    "train_data.head(5)"
   ]
  },
  {
   "cell_type": "code",
   "execution_count": 320,
   "metadata": {},
   "outputs": [],
   "source": [
    "# Include/Exclude zeta_disease column\n",
    "X = train_data.iloc[:, 0:7].values\n",
    "y = train_data.iloc[:, 8].values"
   ]
  },
  {
   "cell_type": "code",
   "execution_count": 319,
   "metadata": {},
   "outputs": [
    {
     "name": "stdout",
     "output_type": "stream",
     "text": [
      "(600, 7) (600,)\n",
      "(200, 7) (200,)\n"
     ]
    }
   ],
   "source": [
    "from sklearn.model_selection import train_test_split\n",
    "\n",
    "# Splitting Data Sets into Trainig and Test data sets\n",
    "X_train, X_test, y_train, y_test = train_test_split(X,y, test_size=0.25,random_state=123)\n",
    "print (X_train.shape, y_train.shape)\n",
    "print (X_test.shape, y_test.shape)"
   ]
  },
  {
   "cell_type": "markdown",
   "metadata": {},
   "source": [
    "# 1. Random Forest Classification "
   ]
  },
  {
   "cell_type": "code",
   "execution_count": 321,
   "metadata": {},
   "outputs": [
    {
     "data": {
      "text/plain": [
       "RandomForestClassifier(n_estimators=5, random_state=5)"
      ]
     },
     "execution_count": 321,
     "metadata": {},
     "output_type": "execute_result"
    }
   ],
   "source": [
    "#Building RandomForest model\n",
    "\n",
    "from sklearn.ensemble import RandomForestClassifier\n",
    "Classifier = RandomForestClassifier(n_estimators=5, random_state=5)\n",
    "Classifier.fit(X_train,y_train)\n",
    "#y_pred = Classifier.predict(X_test)"
   ]
  },
  {
   "cell_type": "code",
   "execution_count": 326,
   "metadata": {},
   "outputs": [],
   "source": [
    "# Classifier.score(X_test,y_test)\n",
    "y_pred = Classifier.predict(X_test)"
   ]
  },
  {
   "cell_type": "code",
   "execution_count": 342,
   "metadata": {},
   "outputs": [
    {
     "name": "stdout",
     "output_type": "stream",
     "text": [
      "              precision    recall  f1-score   support\n",
      "\n",
      "           0       0.78      0.88      0.82       129\n",
      "           1       0.71      0.55      0.62        71\n",
      "\n",
      "    accuracy                           0.76       200\n",
      "   macro avg       0.74      0.71      0.72       200\n",
      "weighted avg       0.75      0.76      0.75       200\n",
      "\n",
      "Random Forest Accuracy = 76.0\n"
     ]
    }
   ],
   "source": [
    "print(classification_report(y_test,y_pred))\n",
    "print(\"Random Forest Accuracy =\",accuracy_score(y_test, y_pred)*100)"
   ]
  },
  {
   "cell_type": "code",
   "execution_count": 338,
   "metadata": {},
   "outputs": [
    {
     "data": {
      "text/html": [
       "<div>\n",
       "<style scoped>\n",
       "    .dataframe tbody tr th:only-of-type {\n",
       "        vertical-align: middle;\n",
       "    }\n",
       "\n",
       "    .dataframe tbody tr th {\n",
       "        vertical-align: top;\n",
       "    }\n",
       "\n",
       "    .dataframe thead th {\n",
       "        text-align: right;\n",
       "    }\n",
       "</style>\n",
       "<table border=\"1\" class=\"dataframe\">\n",
       "  <thead>\n",
       "    <tr style=\"text-align: right;\">\n",
       "      <th>col_0</th>\n",
       "      <th>0</th>\n",
       "      <th>1</th>\n",
       "      <th>zeta_disease</th>\n",
       "    </tr>\n",
       "    <tr>\n",
       "      <th>row_0</th>\n",
       "      <th></th>\n",
       "      <th></th>\n",
       "      <th></th>\n",
       "    </tr>\n",
       "  </thead>\n",
       "  <tbody>\n",
       "    <tr>\n",
       "      <th>0</th>\n",
       "      <td>113</td>\n",
       "      <td>16</td>\n",
       "      <td>129</td>\n",
       "    </tr>\n",
       "    <tr>\n",
       "      <th>1</th>\n",
       "      <td>32</td>\n",
       "      <td>39</td>\n",
       "      <td>71</td>\n",
       "    </tr>\n",
       "    <tr>\n",
       "      <th>zeta_disease</th>\n",
       "      <td>145</td>\n",
       "      <td>55</td>\n",
       "      <td>200</td>\n",
       "    </tr>\n",
       "  </tbody>\n",
       "</table>\n",
       "</div>"
      ],
      "text/plain": [
       "col_0           0   1  zeta_disease\n",
       "row_0                              \n",
       "0             113  16           129\n",
       "1              32  39            71\n",
       "zeta_disease  145  55           200"
      ]
     },
     "execution_count": 338,
     "metadata": {},
     "output_type": "execute_result"
    }
   ],
   "source": [
    "pd.crosstab(y_test,y_pred, margins=True, margins_name=\"zeta_disease\")"
   ]
  },
  {
   "cell_type": "markdown",
   "metadata": {},
   "source": [
    "# 2. SVC Model with default hyper param"
   ]
  },
  {
   "cell_type": "code",
   "execution_count": 348,
   "metadata": {},
   "outputs": [],
   "source": [
    "# Building Support Vector Meachines Kernal=rbf\n",
    "\n",
    "from sklearn.svm import SVC\n",
    "svclassifier = SVC()\n",
    "svclassifier.fit(X_train, y_train)\n",
    "\n",
    "y_pred_rbf = svclassifier.predict(X_test)"
   ]
  },
  {
   "cell_type": "code",
   "execution_count": 349,
   "metadata": {
    "scrolled": true
   },
   "outputs": [
    {
     "name": "stdout",
     "output_type": "stream",
     "text": [
      "              precision    recall  f1-score   support\n",
      "\n",
      "           0       0.77      0.94      0.85       129\n",
      "           1       0.81      0.49      0.61        71\n",
      "\n",
      "    accuracy                           0.78       200\n",
      "   macro avg       0.79      0.72      0.73       200\n",
      "weighted avg       0.79      0.78      0.76       200\n",
      "\n",
      "SVC Accuracy(in %): 78.0\n"
     ]
    }
   ],
   "source": [
    "# print(confusion_matrix(y_test, y_pred_rbf))\n",
    "print(classification_report(y_test, y_pred_rbf))\n",
    "print(\"SVC Accuracy(in %):\",metrics.accuracy_score(y_test, y_pred_rbf)*100)"
   ]
  },
  {
   "cell_type": "markdown",
   "metadata": {},
   "source": [
    "# 3. MLP Classifer "
   ]
  },
  {
   "cell_type": "code",
   "execution_count": 344,
   "metadata": {},
   "outputs": [
    {
     "data": {
      "text/plain": [
       "MLPClassifier(hidden_layer_sizes=(13, 13, 13), max_iter=500)"
      ]
     },
     "execution_count": 344,
     "metadata": {},
     "output_type": "execute_result"
    }
   ],
   "source": [
    "from sklearn.neural_network import MLPClassifier\n",
    "mlp = MLPClassifier(hidden_layer_sizes=(13,13,13),max_iter=500)\n",
    "mlp.fit(X_train,y_train)"
   ]
  },
  {
   "cell_type": "code",
   "execution_count": 345,
   "metadata": {},
   "outputs": [],
   "source": [
    "predictions = mlp.predict(X_test)"
   ]
  },
  {
   "cell_type": "code",
   "execution_count": 347,
   "metadata": {},
   "outputs": [
    {
     "name": "stdout",
     "output_type": "stream",
     "text": [
      "[[117  12]\n",
      " [ 47  24]]\n",
      "              precision    recall  f1-score   support\n",
      "\n",
      "           0       0.71      0.91      0.80       129\n",
      "           1       0.67      0.34      0.45        71\n",
      "\n",
      "    accuracy                           0.70       200\n",
      "   macro avg       0.69      0.62      0.62       200\n",
      "weighted avg       0.70      0.70      0.67       200\n",
      "\n",
      "Neural Network model accuracy(in %): 70.5\n"
     ]
    }
   ],
   "source": [
    "print(confusion_matrix(y_test,predictions))\n",
    "print(classification_report(y_test,predictions))\n",
    "print(\"Neural Network model accuracy(in %):\", metrics.accuracy_score(y_test, predictions)*100)"
   ]
  },
  {
   "cell_type": "markdown",
   "metadata": {},
   "source": [
    "# 4. KNN "
   ]
  },
  {
   "cell_type": "code",
   "execution_count": 350,
   "metadata": {},
   "outputs": [
    {
     "data": {
      "text/plain": [
       "KNeighborsClassifier(n_neighbors=6)"
      ]
     },
     "execution_count": 350,
     "metadata": {},
     "output_type": "execute_result"
    }
   ],
   "source": [
    "from sklearn.neighbors import KNeighborsClassifier\n",
    "classifier = KNeighborsClassifier(n_neighbors=6)\n",
    "classifier.fit(X_train, y_train)"
   ]
  },
  {
   "cell_type": "code",
   "execution_count": 351,
   "metadata": {},
   "outputs": [],
   "source": [
    "y_predknn = classifier.predict(X_test)"
   ]
  },
  {
   "cell_type": "code",
   "execution_count": 354,
   "metadata": {},
   "outputs": [
    {
     "name": "stdout",
     "output_type": "stream",
     "text": [
      "[[119  10]\n",
      " [ 42  29]]\n",
      "              precision    recall  f1-score   support\n",
      "\n",
      "           0       0.74      0.92      0.82       129\n",
      "           1       0.74      0.41      0.53        71\n",
      "\n",
      "    accuracy                           0.74       200\n",
      "   macro avg       0.74      0.67      0.67       200\n",
      "weighted avg       0.74      0.74      0.72       200\n",
      "\n",
      "KNN model accuracy(in %): 74.0\n"
     ]
    }
   ],
   "source": [
    "print(confusion_matrix(y_test, y_predknn))\n",
    "print(classification_report(y_test, y_predknn))\n",
    "# Model Accuracy, how often is the classifier correct?\n",
    "print(\"KNN model accuracy(in %):\",metrics.accuracy_score(y_test, y_predknn)*100)"
   ]
  },
  {
   "cell_type": "code",
   "execution_count": 356,
   "metadata": {
    "collapsed": true
   },
   "outputs": [
    {
     "data": {
      "text/html": [
       "<style  type=\"text/css\" >\n",
       "#T_82da138a_7145_11eb_bd4f_72b93edc5c4erow0_col0,#T_82da138a_7145_11eb_bd4f_72b93edc5c4erow1_col1,#T_82da138a_7145_11eb_bd4f_72b93edc5c4erow2_col2,#T_82da138a_7145_11eb_bd4f_72b93edc5c4erow3_col3,#T_82da138a_7145_11eb_bd4f_72b93edc5c4erow4_col4,#T_82da138a_7145_11eb_bd4f_72b93edc5c4erow5_col5,#T_82da138a_7145_11eb_bd4f_72b93edc5c4erow6_col6,#T_82da138a_7145_11eb_bd4f_72b93edc5c4erow7_col7,#T_82da138a_7145_11eb_bd4f_72b93edc5c4erow8_col8{\n",
       "            background-color:  #b40426;\n",
       "            color:  #f1f1f1;\n",
       "        }#T_82da138a_7145_11eb_bd4f_72b93edc5c4erow0_col1,#T_82da138a_7145_11eb_bd4f_72b93edc5c4erow3_col4{\n",
       "            background-color:  #5d7ce6;\n",
       "            color:  #000000;\n",
       "        }#T_82da138a_7145_11eb_bd4f_72b93edc5c4erow0_col2{\n",
       "            background-color:  #3c4ec2;\n",
       "            color:  #f1f1f1;\n",
       "        }#T_82da138a_7145_11eb_bd4f_72b93edc5c4erow0_col3,#T_82da138a_7145_11eb_bd4f_72b93edc5c4erow5_col8,#T_82da138a_7145_11eb_bd4f_72b93edc5c4erow6_col3,#T_82da138a_7145_11eb_bd4f_72b93edc5c4erow6_col5,#T_82da138a_7145_11eb_bd4f_72b93edc5c4erow8_col4{\n",
       "            background-color:  #6b8df0;\n",
       "            color:  #000000;\n",
       "        }#T_82da138a_7145_11eb_bd4f_72b93edc5c4erow0_col4,#T_82da138a_7145_11eb_bd4f_72b93edc5c4erow0_col6,#T_82da138a_7145_11eb_bd4f_72b93edc5c4erow5_col3,#T_82da138a_7145_11eb_bd4f_72b93edc5c4erow6_col0,#T_82da138a_7145_11eb_bd4f_72b93edc5c4erow6_col1,#T_82da138a_7145_11eb_bd4f_72b93edc5c4erow6_col7,#T_82da138a_7145_11eb_bd4f_72b93edc5c4erow6_col8,#T_82da138a_7145_11eb_bd4f_72b93edc5c4erow7_col2,#T_82da138a_7145_11eb_bd4f_72b93edc5c4erow7_col5,#T_82da138a_7145_11eb_bd4f_72b93edc5c4erow8_col3{\n",
       "            background-color:  #3b4cc0;\n",
       "            color:  #f1f1f1;\n",
       "        }#T_82da138a_7145_11eb_bd4f_72b93edc5c4erow0_col5,#T_82da138a_7145_11eb_bd4f_72b93edc5c4erow7_col6{\n",
       "            background-color:  #4055c8;\n",
       "            color:  #f1f1f1;\n",
       "        }#T_82da138a_7145_11eb_bd4f_72b93edc5c4erow0_col7{\n",
       "            background-color:  #c6d6f1;\n",
       "            color:  #000000;\n",
       "        }#T_82da138a_7145_11eb_bd4f_72b93edc5c4erow0_col8,#T_82da138a_7145_11eb_bd4f_72b93edc5c4erow3_col7{\n",
       "            background-color:  #6e90f2;\n",
       "            color:  #000000;\n",
       "        }#T_82da138a_7145_11eb_bd4f_72b93edc5c4erow1_col0{\n",
       "            background-color:  #89acfd;\n",
       "            color:  #000000;\n",
       "        }#T_82da138a_7145_11eb_bd4f_72b93edc5c4erow1_col2{\n",
       "            background-color:  #779af7;\n",
       "            color:  #000000;\n",
       "        }#T_82da138a_7145_11eb_bd4f_72b93edc5c4erow1_col3{\n",
       "            background-color:  #536edd;\n",
       "            color:  #000000;\n",
       "        }#T_82da138a_7145_11eb_bd4f_72b93edc5c4erow1_col4{\n",
       "            background-color:  #a7c5fe;\n",
       "            color:  #000000;\n",
       "        }#T_82da138a_7145_11eb_bd4f_72b93edc5c4erow1_col5,#T_82da138a_7145_11eb_bd4f_72b93edc5c4erow2_col0,#T_82da138a_7145_11eb_bd4f_72b93edc5c4erow8_col6{\n",
       "            background-color:  #6282ea;\n",
       "            color:  #000000;\n",
       "        }#T_82da138a_7145_11eb_bd4f_72b93edc5c4erow1_col6{\n",
       "            background-color:  #6788ee;\n",
       "            color:  #000000;\n",
       "        }#T_82da138a_7145_11eb_bd4f_72b93edc5c4erow1_col7,#T_82da138a_7145_11eb_bd4f_72b93edc5c4erow7_col8,#T_82da138a_7145_11eb_bd4f_72b93edc5c4erow8_col5{\n",
       "            background-color:  #6f92f3;\n",
       "            color:  #000000;\n",
       "        }#T_82da138a_7145_11eb_bd4f_72b93edc5c4erow1_col8{\n",
       "            background-color:  #cfdaea;\n",
       "            color:  #000000;\n",
       "        }#T_82da138a_7145_11eb_bd4f_72b93edc5c4erow2_col1{\n",
       "            background-color:  #7093f3;\n",
       "            color:  #000000;\n",
       "        }#T_82da138a_7145_11eb_bd4f_72b93edc5c4erow2_col3{\n",
       "            background-color:  #7da0f9;\n",
       "            color:  #000000;\n",
       "        }#T_82da138a_7145_11eb_bd4f_72b93edc5c4erow2_col4,#T_82da138a_7145_11eb_bd4f_72b93edc5c4erow2_col8,#T_82da138a_7145_11eb_bd4f_72b93edc5c4erow6_col2{\n",
       "            background-color:  #8badfd;\n",
       "            color:  #000000;\n",
       "        }#T_82da138a_7145_11eb_bd4f_72b93edc5c4erow2_col5,#T_82da138a_7145_11eb_bd4f_72b93edc5c4erow4_col8,#T_82da138a_7145_11eb_bd4f_72b93edc5c4erow5_col7{\n",
       "            background-color:  #5875e1;\n",
       "            color:  #000000;\n",
       "        }#T_82da138a_7145_11eb_bd4f_72b93edc5c4erow2_col6{\n",
       "            background-color:  #aac7fd;\n",
       "            color:  #000000;\n",
       "        }#T_82da138a_7145_11eb_bd4f_72b93edc5c4erow2_col7,#T_82da138a_7145_11eb_bd4f_72b93edc5c4erow5_col1{\n",
       "            background-color:  #5977e3;\n",
       "            color:  #000000;\n",
       "        }#T_82da138a_7145_11eb_bd4f_72b93edc5c4erow3_col0,#T_82da138a_7145_11eb_bd4f_72b93edc5c4erow3_col6,#T_82da138a_7145_11eb_bd4f_72b93edc5c4erow8_col0{\n",
       "            background-color:  #94b6ff;\n",
       "            color:  #000000;\n",
       "        }#T_82da138a_7145_11eb_bd4f_72b93edc5c4erow3_col1{\n",
       "            background-color:  #506bda;\n",
       "            color:  #000000;\n",
       "        }#T_82da138a_7145_11eb_bd4f_72b93edc5c4erow3_col2{\n",
       "            background-color:  #81a4fb;\n",
       "            color:  #000000;\n",
       "        }#T_82da138a_7145_11eb_bd4f_72b93edc5c4erow3_col5,#T_82da138a_7145_11eb_bd4f_72b93edc5c4erow7_col4{\n",
       "            background-color:  #4257c9;\n",
       "            color:  #f1f1f1;\n",
       "        }#T_82da138a_7145_11eb_bd4f_72b93edc5c4erow3_col8{\n",
       "            background-color:  #3d50c3;\n",
       "            color:  #f1f1f1;\n",
       "        }#T_82da138a_7145_11eb_bd4f_72b93edc5c4erow4_col0{\n",
       "            background-color:  #4e68d8;\n",
       "            color:  #000000;\n",
       "        }#T_82da138a_7145_11eb_bd4f_72b93edc5c4erow4_col1{\n",
       "            background-color:  #92b4fe;\n",
       "            color:  #000000;\n",
       "        }#T_82da138a_7145_11eb_bd4f_72b93edc5c4erow4_col2{\n",
       "            background-color:  #799cf8;\n",
       "            color:  #000000;\n",
       "        }#T_82da138a_7145_11eb_bd4f_72b93edc5c4erow4_col3{\n",
       "            background-color:  #455cce;\n",
       "            color:  #f1f1f1;\n",
       "        }#T_82da138a_7145_11eb_bd4f_72b93edc5c4erow4_col5{\n",
       "            background-color:  #6c8ff1;\n",
       "            color:  #000000;\n",
       "        }#T_82da138a_7145_11eb_bd4f_72b93edc5c4erow4_col6{\n",
       "            background-color:  #d6dce4;\n",
       "            color:  #000000;\n",
       "        }#T_82da138a_7145_11eb_bd4f_72b93edc5c4erow4_col7{\n",
       "            background-color:  #4f69d9;\n",
       "            color:  #000000;\n",
       "        }#T_82da138a_7145_11eb_bd4f_72b93edc5c4erow5_col0{\n",
       "            background-color:  #6485ec;\n",
       "            color:  #000000;\n",
       "        }#T_82da138a_7145_11eb_bd4f_72b93edc5c4erow5_col2{\n",
       "            background-color:  #5673e0;\n",
       "            color:  #000000;\n",
       "        }#T_82da138a_7145_11eb_bd4f_72b93edc5c4erow5_col4{\n",
       "            background-color:  #7b9ff9;\n",
       "            color:  #000000;\n",
       "        }#T_82da138a_7145_11eb_bd4f_72b93edc5c4erow5_col6,#T_82da138a_7145_11eb_bd4f_72b93edc5c4erow8_col2{\n",
       "            background-color:  #8db0fe;\n",
       "            color:  #000000;\n",
       "        }#T_82da138a_7145_11eb_bd4f_72b93edc5c4erow6_col4{\n",
       "            background-color:  #cbd8ee;\n",
       "            color:  #000000;\n",
       "        }#T_82da138a_7145_11eb_bd4f_72b93edc5c4erow7_col0{\n",
       "            background-color:  #cad8ef;\n",
       "            color:  #000000;\n",
       "        }#T_82da138a_7145_11eb_bd4f_72b93edc5c4erow7_col1{\n",
       "            background-color:  #4961d2;\n",
       "            color:  #f1f1f1;\n",
       "        }#T_82da138a_7145_11eb_bd4f_72b93edc5c4erow7_col3{\n",
       "            background-color:  #4a63d3;\n",
       "            color:  #f1f1f1;\n",
       "        }#T_82da138a_7145_11eb_bd4f_72b93edc5c4erow8_col1{\n",
       "            background-color:  #ccd9ed;\n",
       "            color:  #000000;\n",
       "        }#T_82da138a_7145_11eb_bd4f_72b93edc5c4erow8_col7{\n",
       "            background-color:  #8fb1fe;\n",
       "            color:  #000000;\n",
       "        }</style><table id=\"T_82da138a_7145_11eb_bd4f_72b93edc5c4e\" ><thead>    <tr>        <th class=\"blank level0\" ></th>        <th class=\"col_heading level0 col0\" >age</th>        <th class=\"col_heading level0 col1\" >weight</th>        <th class=\"col_heading level0 col2\" >bmi</th>        <th class=\"col_heading level0 col3\" >blood_pressure</th>        <th class=\"col_heading level0 col4\" >insulin_test</th>        <th class=\"col_heading level0 col5\" >liver_stress_test</th>        <th class=\"col_heading level0 col6\" >cardio_stress_test</th>        <th class=\"col_heading level0 col7\" >years_smoking</th>        <th class=\"col_heading level0 col8\" >zeta_disease</th>    </tr></thead><tbody>\n",
       "                <tr>\n",
       "                        <th id=\"T_82da138a_7145_11eb_bd4f_72b93edc5c4elevel0_row0\" class=\"row_heading level0 row0\" >age</th>\n",
       "                        <td id=\"T_82da138a_7145_11eb_bd4f_72b93edc5c4erow0_col0\" class=\"data row0 col0\" >1.0</td>\n",
       "                        <td id=\"T_82da138a_7145_11eb_bd4f_72b93edc5c4erow0_col1\" class=\"data row0 col1\" >0.16</td>\n",
       "                        <td id=\"T_82da138a_7145_11eb_bd4f_72b93edc5c4erow0_col2\" class=\"data row0 col2\" >0.035</td>\n",
       "                        <td id=\"T_82da138a_7145_11eb_bd4f_72b93edc5c4erow0_col3\" class=\"data row0 col3\" >0.19</td>\n",
       "                        <td id=\"T_82da138a_7145_11eb_bd4f_72b93edc5c4erow0_col4\" class=\"data row0 col4\" >-0.034</td>\n",
       "                        <td id=\"T_82da138a_7145_11eb_bd4f_72b93edc5c4erow0_col5\" class=\"data row0 col5\" >0.042</td>\n",
       "                        <td id=\"T_82da138a_7145_11eb_bd4f_72b93edc5c4erow0_col6\" class=\"data row0 col6\" >-0.11</td>\n",
       "                        <td id=\"T_82da138a_7145_11eb_bd4f_72b93edc5c4erow0_col7\" class=\"data row0 col7\" >0.37</td>\n",
       "                        <td id=\"T_82da138a_7145_11eb_bd4f_72b93edc5c4erow0_col8\" class=\"data row0 col8\" >0.19</td>\n",
       "            </tr>\n",
       "            <tr>\n",
       "                        <th id=\"T_82da138a_7145_11eb_bd4f_72b93edc5c4elevel0_row1\" class=\"row_heading level0 row1\" >weight</th>\n",
       "                        <td id=\"T_82da138a_7145_11eb_bd4f_72b93edc5c4erow1_col0\" class=\"data row1 col0\" >0.16</td>\n",
       "                        <td id=\"T_82da138a_7145_11eb_bd4f_72b93edc5c4erow1_col1\" class=\"data row1 col1\" >1.0</td>\n",
       "                        <td id=\"T_82da138a_7145_11eb_bd4f_72b93edc5c4erow1_col2\" class=\"data row1 col2\" >0.21</td>\n",
       "                        <td id=\"T_82da138a_7145_11eb_bd4f_72b93edc5c4erow1_col3\" class=\"data row1 col3\" >0.12</td>\n",
       "                        <td id=\"T_82da138a_7145_11eb_bd4f_72b93edc5c4erow1_col4\" class=\"data row1 col4\" >0.3</td>\n",
       "                        <td id=\"T_82da138a_7145_11eb_bd4f_72b93edc5c4erow1_col5\" class=\"data row1 col5\" >0.15</td>\n",
       "                        <td id=\"T_82da138a_7145_11eb_bd4f_72b93edc5c4erow1_col6\" class=\"data row1 col6\" >0.054</td>\n",
       "                        <td id=\"T_82da138a_7145_11eb_bd4f_72b93edc5c4erow1_col7\" class=\"data row1 col7\" >0.1</td>\n",
       "                        <td id=\"T_82da138a_7145_11eb_bd4f_72b93edc5c4erow1_col8\" class=\"data row1 col8\" >0.47</td>\n",
       "            </tr>\n",
       "            <tr>\n",
       "                        <th id=\"T_82da138a_7145_11eb_bd4f_72b93edc5c4elevel0_row2\" class=\"row_heading level0 row2\" >bmi</th>\n",
       "                        <td id=\"T_82da138a_7145_11eb_bd4f_72b93edc5c4erow2_col0\" class=\"data row2 col0\" >0.035</td>\n",
       "                        <td id=\"T_82da138a_7145_11eb_bd4f_72b93edc5c4erow2_col1\" class=\"data row2 col1\" >0.21</td>\n",
       "                        <td id=\"T_82da138a_7145_11eb_bd4f_72b93edc5c4erow2_col2\" class=\"data row2 col2\" >1.0</td>\n",
       "                        <td id=\"T_82da138a_7145_11eb_bd4f_72b93edc5c4erow2_col3\" class=\"data row2 col3\" >0.24</td>\n",
       "                        <td id=\"T_82da138a_7145_11eb_bd4f_72b93edc5c4erow2_col4\" class=\"data row2 col4\" >0.22</td>\n",
       "                        <td id=\"T_82da138a_7145_11eb_bd4f_72b93edc5c4erow2_col5\" class=\"data row2 col5\" >0.12</td>\n",
       "                        <td id=\"T_82da138a_7145_11eb_bd4f_72b93edc5c4erow2_col6\" class=\"data row2 col6\" >0.26</td>\n",
       "                        <td id=\"T_82da138a_7145_11eb_bd4f_72b93edc5c4erow2_col7\" class=\"data row2 col7\" >0.029</td>\n",
       "                        <td id=\"T_82da138a_7145_11eb_bd4f_72b93edc5c4erow2_col8\" class=\"data row2 col8\" >0.27</td>\n",
       "            </tr>\n",
       "            <tr>\n",
       "                        <th id=\"T_82da138a_7145_11eb_bd4f_72b93edc5c4elevel0_row3\" class=\"row_heading level0 row3\" >blood_pressure</th>\n",
       "                        <td id=\"T_82da138a_7145_11eb_bd4f_72b93edc5c4erow3_col0\" class=\"data row3 col0\" >0.19</td>\n",
       "                        <td id=\"T_82da138a_7145_11eb_bd4f_72b93edc5c4erow3_col1\" class=\"data row3 col1\" >0.12</td>\n",
       "                        <td id=\"T_82da138a_7145_11eb_bd4f_72b93edc5c4erow3_col2\" class=\"data row3 col2\" >0.24</td>\n",
       "                        <td id=\"T_82da138a_7145_11eb_bd4f_72b93edc5c4erow3_col3\" class=\"data row3 col3\" >1.0</td>\n",
       "                        <td id=\"T_82da138a_7145_11eb_bd4f_72b93edc5c4erow3_col4\" class=\"data row3 col4\" >0.079</td>\n",
       "                        <td id=\"T_82da138a_7145_11eb_bd4f_72b93edc5c4erow3_col5\" class=\"data row3 col5\" >0.046</td>\n",
       "                        <td id=\"T_82da138a_7145_11eb_bd4f_72b93edc5c4erow3_col6\" class=\"data row3 col6\" >0.19</td>\n",
       "                        <td id=\"T_82da138a_7145_11eb_bd4f_72b93edc5c4erow3_col7\" class=\"data row3 col7\" >0.096</td>\n",
       "                        <td id=\"T_82da138a_7145_11eb_bd4f_72b93edc5c4erow3_col8\" class=\"data row3 col8\" >0.046</td>\n",
       "            </tr>\n",
       "            <tr>\n",
       "                        <th id=\"T_82da138a_7145_11eb_bd4f_72b93edc5c4elevel0_row4\" class=\"row_heading level0 row4\" >insulin_test</th>\n",
       "                        <td id=\"T_82da138a_7145_11eb_bd4f_72b93edc5c4erow4_col0\" class=\"data row4 col0\" >-0.034</td>\n",
       "                        <td id=\"T_82da138a_7145_11eb_bd4f_72b93edc5c4erow4_col1\" class=\"data row4 col1\" >0.3</td>\n",
       "                        <td id=\"T_82da138a_7145_11eb_bd4f_72b93edc5c4erow4_col2\" class=\"data row4 col2\" >0.22</td>\n",
       "                        <td id=\"T_82da138a_7145_11eb_bd4f_72b93edc5c4erow4_col3\" class=\"data row4 col3\" >0.079</td>\n",
       "                        <td id=\"T_82da138a_7145_11eb_bd4f_72b93edc5c4erow4_col4\" class=\"data row4 col4\" >1.0</td>\n",
       "                        <td id=\"T_82da138a_7145_11eb_bd4f_72b93edc5c4erow4_col5\" class=\"data row4 col5\" >0.18</td>\n",
       "                        <td id=\"T_82da138a_7145_11eb_bd4f_72b93edc5c4erow4_col6\" class=\"data row4 col6\" >0.42</td>\n",
       "                        <td id=\"T_82da138a_7145_11eb_bd4f_72b93edc5c4erow4_col7\" class=\"data row4 col7\" >-0.0063</td>\n",
       "                        <td id=\"T_82da138a_7145_11eb_bd4f_72b93edc5c4erow4_col8\" class=\"data row4 col8\" >0.13</td>\n",
       "            </tr>\n",
       "            <tr>\n",
       "                        <th id=\"T_82da138a_7145_11eb_bd4f_72b93edc5c4elevel0_row5\" class=\"row_heading level0 row5\" >liver_stress_test</th>\n",
       "                        <td id=\"T_82da138a_7145_11eb_bd4f_72b93edc5c4erow5_col0\" class=\"data row5 col0\" >0.042</td>\n",
       "                        <td id=\"T_82da138a_7145_11eb_bd4f_72b93edc5c4erow5_col1\" class=\"data row5 col1\" >0.15</td>\n",
       "                        <td id=\"T_82da138a_7145_11eb_bd4f_72b93edc5c4erow5_col2\" class=\"data row5 col2\" >0.12</td>\n",
       "                        <td id=\"T_82da138a_7145_11eb_bd4f_72b93edc5c4erow5_col3\" class=\"data row5 col3\" >0.046</td>\n",
       "                        <td id=\"T_82da138a_7145_11eb_bd4f_72b93edc5c4erow5_col4\" class=\"data row5 col4\" >0.18</td>\n",
       "                        <td id=\"T_82da138a_7145_11eb_bd4f_72b93edc5c4erow5_col5\" class=\"data row5 col5\" >1.0</td>\n",
       "                        <td id=\"T_82da138a_7145_11eb_bd4f_72b93edc5c4erow5_col6\" class=\"data row5 col6\" >0.17</td>\n",
       "                        <td id=\"T_82da138a_7145_11eb_bd4f_72b93edc5c4erow5_col7\" class=\"data row5 col7\" >0.022</td>\n",
       "                        <td id=\"T_82da138a_7145_11eb_bd4f_72b93edc5c4erow5_col8\" class=\"data row5 col8\" >0.18</td>\n",
       "            </tr>\n",
       "            <tr>\n",
       "                        <th id=\"T_82da138a_7145_11eb_bd4f_72b93edc5c4elevel0_row6\" class=\"row_heading level0 row6\" >cardio_stress_test</th>\n",
       "                        <td id=\"T_82da138a_7145_11eb_bd4f_72b93edc5c4erow6_col0\" class=\"data row6 col0\" >-0.11</td>\n",
       "                        <td id=\"T_82da138a_7145_11eb_bd4f_72b93edc5c4erow6_col1\" class=\"data row6 col1\" >0.054</td>\n",
       "                        <td id=\"T_82da138a_7145_11eb_bd4f_72b93edc5c4erow6_col2\" class=\"data row6 col2\" >0.26</td>\n",
       "                        <td id=\"T_82da138a_7145_11eb_bd4f_72b93edc5c4erow6_col3\" class=\"data row6 col3\" >0.19</td>\n",
       "                        <td id=\"T_82da138a_7145_11eb_bd4f_72b93edc5c4erow6_col4\" class=\"data row6 col4\" >0.42</td>\n",
       "                        <td id=\"T_82da138a_7145_11eb_bd4f_72b93edc5c4erow6_col5\" class=\"data row6 col5\" >0.17</td>\n",
       "                        <td id=\"T_82da138a_7145_11eb_bd4f_72b93edc5c4erow6_col6\" class=\"data row6 col6\" >1.0</td>\n",
       "                        <td id=\"T_82da138a_7145_11eb_bd4f_72b93edc5c4erow6_col7\" class=\"data row6 col7\" >-0.08</td>\n",
       "                        <td id=\"T_82da138a_7145_11eb_bd4f_72b93edc5c4erow6_col8\" class=\"data row6 col8\" >0.036</td>\n",
       "            </tr>\n",
       "            <tr>\n",
       "                        <th id=\"T_82da138a_7145_11eb_bd4f_72b93edc5c4elevel0_row7\" class=\"row_heading level0 row7\" >years_smoking</th>\n",
       "                        <td id=\"T_82da138a_7145_11eb_bd4f_72b93edc5c4erow7_col0\" class=\"data row7 col0\" >0.37</td>\n",
       "                        <td id=\"T_82da138a_7145_11eb_bd4f_72b93edc5c4erow7_col1\" class=\"data row7 col1\" >0.1</td>\n",
       "                        <td id=\"T_82da138a_7145_11eb_bd4f_72b93edc5c4erow7_col2\" class=\"data row7 col2\" >0.029</td>\n",
       "                        <td id=\"T_82da138a_7145_11eb_bd4f_72b93edc5c4erow7_col3\" class=\"data row7 col3\" >0.096</td>\n",
       "                        <td id=\"T_82da138a_7145_11eb_bd4f_72b93edc5c4erow7_col4\" class=\"data row7 col4\" >-0.0063</td>\n",
       "                        <td id=\"T_82da138a_7145_11eb_bd4f_72b93edc5c4erow7_col5\" class=\"data row7 col5\" >0.022</td>\n",
       "                        <td id=\"T_82da138a_7145_11eb_bd4f_72b93edc5c4erow7_col6\" class=\"data row7 col6\" >-0.08</td>\n",
       "                        <td id=\"T_82da138a_7145_11eb_bd4f_72b93edc5c4erow7_col7\" class=\"data row7 col7\" >1.0</td>\n",
       "                        <td id=\"T_82da138a_7145_11eb_bd4f_72b93edc5c4erow7_col8\" class=\"data row7 col8\" >0.2</td>\n",
       "            </tr>\n",
       "            <tr>\n",
       "                        <th id=\"T_82da138a_7145_11eb_bd4f_72b93edc5c4elevel0_row8\" class=\"row_heading level0 row8\" >zeta_disease</th>\n",
       "                        <td id=\"T_82da138a_7145_11eb_bd4f_72b93edc5c4erow8_col0\" class=\"data row8 col0\" >0.19</td>\n",
       "                        <td id=\"T_82da138a_7145_11eb_bd4f_72b93edc5c4erow8_col1\" class=\"data row8 col1\" >0.47</td>\n",
       "                        <td id=\"T_82da138a_7145_11eb_bd4f_72b93edc5c4erow8_col2\" class=\"data row8 col2\" >0.27</td>\n",
       "                        <td id=\"T_82da138a_7145_11eb_bd4f_72b93edc5c4erow8_col3\" class=\"data row8 col3\" >0.046</td>\n",
       "                        <td id=\"T_82da138a_7145_11eb_bd4f_72b93edc5c4erow8_col4\" class=\"data row8 col4\" >0.13</td>\n",
       "                        <td id=\"T_82da138a_7145_11eb_bd4f_72b93edc5c4erow8_col5\" class=\"data row8 col5\" >0.18</td>\n",
       "                        <td id=\"T_82da138a_7145_11eb_bd4f_72b93edc5c4erow8_col6\" class=\"data row8 col6\" >0.036</td>\n",
       "                        <td id=\"T_82da138a_7145_11eb_bd4f_72b93edc5c4erow8_col7\" class=\"data row8 col7\" >0.2</td>\n",
       "                        <td id=\"T_82da138a_7145_11eb_bd4f_72b93edc5c4erow8_col8\" class=\"data row8 col8\" >1.0</td>\n",
       "            </tr>\n",
       "    </tbody></table>"
      ],
      "text/plain": [
       "<pandas.io.formats.style.Styler at 0x1bf4264e5c0>"
      ]
     },
     "execution_count": 356,
     "metadata": {},
     "output_type": "execute_result"
    }
   ],
   "source": [
    "train_data.corr(method='pearson').style.format(\"{:.2}\").background_gradient(cmap=plt.get_cmap('coolwarm'))"
   ]
  },
  {
   "cell_type": "code",
   "execution_count": 355,
   "metadata": {},
   "outputs": [],
   "source": [
    "# split data train 75 % and test 25 %\n",
    "x_train, x_test, y_train, y_test = train_test_split(train_data, y, test_size=0.25, random_state=123)"
   ]
  },
  {
   "cell_type": "code",
   "execution_count": 118,
   "metadata": {},
   "outputs": [],
   "source": [
    "#Recursive feature elimination (RFE) with random forest\n",
    "from sklearn.feature_selection import RFE\n",
    "# Create the RFE object and rank each pixel\n",
    "clf_rf_3 = RandomForestClassifier()      \n",
    "rfe = RFE(estimator=clf_rf_3, n_features_to_select=5, step=1)\n",
    "rfe = rfe.fit(x_train, y_train)"
   ]
  },
  {
   "cell_type": "code",
   "execution_count": 119,
   "metadata": {},
   "outputs": [
    {
     "name": "stdout",
     "output_type": "stream",
     "text": [
      "Chosen best 5 feature by rfe: Index(['age', 'weight', 'bmi', 'insulin_test', 'zeta_disease'], dtype='object')\n"
     ]
    }
   ],
   "source": [
    "print('Chosen best 5 feature by rfe:',x_train.columns[rfe.support_])"
   ]
  },
  {
   "cell_type": "code",
   "execution_count": 53,
   "metadata": {},
   "outputs": [
    {
     "data": {
      "text/plain": [
       "Index(['age', 'weight', 'bmi', 'blood_pressure', 'insulin_test',\n",
       "       'liver_stress_test', 'cardio_stress_test', 'years_smoking',\n",
       "       'zeta_disease'],\n",
       "      dtype='object')"
      ]
     },
     "execution_count": 53,
     "metadata": {},
     "output_type": "execute_result"
    }
   ],
   "source": [
    "train_data.columns"
   ]
  },
  {
   "cell_type": "code",
   "execution_count": 120,
   "metadata": {},
   "outputs": [
    {
     "data": {
      "text/html": [
       "<div>\n",
       "<style scoped>\n",
       "    .dataframe tbody tr th:only-of-type {\n",
       "        vertical-align: middle;\n",
       "    }\n",
       "\n",
       "    .dataframe tbody tr th {\n",
       "        vertical-align: top;\n",
       "    }\n",
       "\n",
       "    .dataframe thead th {\n",
       "        text-align: right;\n",
       "    }\n",
       "</style>\n",
       "<table border=\"1\" class=\"dataframe\">\n",
       "  <thead>\n",
       "    <tr style=\"text-align: right;\">\n",
       "      <th></th>\n",
       "      <th>age</th>\n",
       "      <th>weight</th>\n",
       "      <th>bmi</th>\n",
       "      <th>blood_pressure</th>\n",
       "      <th>insulin_test</th>\n",
       "      <th>liver_stress_test</th>\n",
       "      <th>zeta_disease</th>\n",
       "    </tr>\n",
       "  </thead>\n",
       "  <tbody>\n",
       "    <tr>\n",
       "      <th>0</th>\n",
       "      <td>54</td>\n",
       "      <td>189</td>\n",
       "      <td>27.1</td>\n",
       "      <td>80</td>\n",
       "      <td>0</td>\n",
       "      <td>1.5038</td>\n",
       "      <td>0</td>\n",
       "    </tr>\n",
       "    <tr>\n",
       "      <th>1</th>\n",
       "      <td>23</td>\n",
       "      <td>150</td>\n",
       "      <td>38.5</td>\n",
       "      <td>68</td>\n",
       "      <td>71</td>\n",
       "      <td>0.3868</td>\n",
       "      <td>0</td>\n",
       "    </tr>\n",
       "    <tr>\n",
       "      <th>2</th>\n",
       "      <td>47</td>\n",
       "      <td>186</td>\n",
       "      <td>29.9</td>\n",
       "      <td>90</td>\n",
       "      <td>0</td>\n",
       "      <td>0.2728</td>\n",
       "      <td>0</td>\n",
       "    </tr>\n",
       "    <tr>\n",
       "      <th>3</th>\n",
       "      <td>18</td>\n",
       "      <td>150</td>\n",
       "      <td>30.8</td>\n",
       "      <td>70</td>\n",
       "      <td>1033</td>\n",
       "      <td>0.6598</td>\n",
       "      <td>0</td>\n",
       "    </tr>\n",
       "  </tbody>\n",
       "</table>\n",
       "</div>"
      ],
      "text/plain": [
       "   age  weight   bmi  blood_pressure  insulin_test  liver_stress_test  \\\n",
       "0   54     189  27.1              80             0             1.5038   \n",
       "1   23     150  38.5              68            71             0.3868   \n",
       "2   47     186  29.9              90             0             0.2728   \n",
       "3   18     150  30.8              70          1033             0.6598   \n",
       "\n",
       "   zeta_disease  \n",
       "0             0  \n",
       "1             0  \n",
       "2             0  \n",
       "3             0  "
      ]
     },
     "execution_count": 120,
     "metadata": {},
     "output_type": "execute_result"
    }
   ],
   "source": [
    "final_feat = train_data.drop(['cardio_stress_test', 'years_smoking'],axis=1)\n",
    "final_feat.head(4)"
   ]
  },
  {
   "cell_type": "code",
   "execution_count": 121,
   "metadata": {},
   "outputs": [],
   "source": [
    "X_New = final_feat.iloc[:, 0:5].values\n",
    "y_New = final_feat.iloc[:, 6].values"
   ]
  },
  {
   "cell_type": "code",
   "execution_count": 123,
   "metadata": {},
   "outputs": [
    {
     "name": "stdout",
     "output_type": "stream",
     "text": [
      "(600, 5) (600,)\n",
      "(200, 5) (200,)\n"
     ]
    }
   ],
   "source": [
    "from sklearn import datasets\n",
    "from sklearn.model_selection import train_test_split\n",
    "from matplotlib import pyplot as plt\n",
    "\n",
    "\n",
    "# Splitting Data Sets into Trainig and Test data sets\n",
    "X_train, X_test, y_train, y_test = train_test_split(X_New,y_New, test_size=0.25,random_state=123)\n",
    "print (X_train.shape, y_train.shape)\n",
    "print (X_test.shape, y_test.shape)"
   ]
  },
  {
   "cell_type": "code",
   "execution_count": 124,
   "metadata": {},
   "outputs": [],
   "source": [
    "# # Feature Scaling\n",
    "\n",
    "# from sklearn.preprocessing import StandardScaler\n",
    "# sc = StandardScaler()\n",
    "# X_train = sc.fit_transform(X_train)\n",
    "# X_test = sc.fit_transform(X_test)"
   ]
  },
  {
   "cell_type": "code",
   "execution_count": 125,
   "metadata": {},
   "outputs": [],
   "source": [
    "# # Building Support Vector Meachines Kernal=rbf\n",
    "\n",
    "# from sklearn.svm import SVC\n",
    "# svclassifier = SVC(\n",
    "#                     C=1.0,\n",
    "#                     kernel='rbf',\n",
    "#                     degree=3,\n",
    "#                     gamma='scale',\n",
    "#                     coef0=0.0,\n",
    "#                     shrinking=True,\n",
    "#                     probability=False,\n",
    "#                     tol=0.001,\n",
    "#                     cache_size=200,\n",
    "#                     class_weight=None,\n",
    "#                     verbose=False,\n",
    "#                     max_iter=-1,\n",
    "#                     decision_function_shape='ovr',\n",
    "#                     break_ties=False,\n",
    "#                     random_state=None,\n",
    "#                     )\n",
    "# svclassifier.fit(X_train, y_train)\n",
    "\n",
    "# y_pred_rbf = svclassifier.predict(X_test)"
   ]
  },
  {
   "cell_type": "markdown",
   "metadata": {},
   "source": [
    "# 5. Logistic Regression"
   ]
  },
  {
   "cell_type": "code",
   "execution_count": 371,
   "metadata": {},
   "outputs": [
    {
     "data": {
      "text/plain": [
       "LogisticRegression(multi_class='ovr', random_state=0, solver='liblinear')"
      ]
     },
     "execution_count": 371,
     "metadata": {},
     "output_type": "execute_result"
    }
   ],
   "source": [
    "from sklearn.linear_model import LogisticRegression\n",
    "model = LogisticRegression(solver='liblinear', random_state=0,multi_class='ovr')\n",
    "model.fit(X_train, y_train)"
   ]
  },
  {
   "cell_type": "code",
   "execution_count": 372,
   "metadata": {},
   "outputs": [],
   "source": [
    "log = model.predict(X_test)"
   ]
  },
  {
   "cell_type": "code",
   "execution_count": 373,
   "metadata": {},
   "outputs": [
    {
     "name": "stdout",
     "output_type": "stream",
     "text": [
      "[[122   7]\n",
      " [ 37  34]]\n",
      "              precision    recall  f1-score   support\n",
      "\n",
      "           0       0.77      0.95      0.85       129\n",
      "           1       0.83      0.48      0.61        71\n",
      "\n",
      "    accuracy                           0.78       200\n",
      "   macro avg       0.80      0.71      0.73       200\n",
      "weighted avg       0.79      0.78      0.76       200\n",
      "\n",
      "Logistic Regression model accuracy(in %):: 78.0\n"
     ]
    }
   ],
   "source": [
    "print(confusion_matrix(y_test, log))\n",
    "print(classification_report(y_test, log))\n",
    "print(\"Logistic Regression model accuracy(in %)::\",metrics.accuracy_score(y_test, log)*100)"
   ]
  },
  {
   "cell_type": "markdown",
   "metadata": {},
   "source": [
    "# 6. XG Boost Classifier"
   ]
  },
  {
   "cell_type": "code",
   "execution_count": 375,
   "metadata": {},
   "outputs": [
    {
     "data": {
      "text/plain": [
       "XGBClassifier()"
      ]
     },
     "execution_count": 375,
     "metadata": {},
     "output_type": "execute_result"
    }
   ],
   "source": [
    "from xgboost import XGBClassifier\n",
    "\n",
    "# fit model no training data\n",
    "model = XGBClassifier()\n",
    "model.fit(X_train, y_train)"
   ]
  },
  {
   "cell_type": "code",
   "execution_count": 376,
   "metadata": {},
   "outputs": [],
   "source": [
    "# make predictions for test data\n",
    "y_pred = model.predict(X_test)\n",
    "predictions = [round(value) for value in y_pred]"
   ]
  },
  {
   "cell_type": "code",
   "execution_count": 378,
   "metadata": {},
   "outputs": [
    {
     "name": "stdout",
     "output_type": "stream",
     "text": [
      "XG Boost Accuracy: 79.00%\n"
     ]
    }
   ],
   "source": [
    "# evaluate predictions\n",
    "accuracy = accuracy_score(y_test, predictions)\n",
    "print(\"XG Boost Accuracy: %.2f%%\" % (accuracy * 100.0))"
   ]
  },
  {
   "cell_type": "markdown",
   "metadata": {},
   "source": [
    "# Feature Selection with SVC "
   ]
  },
  {
   "cell_type": "code",
   "execution_count": 379,
   "metadata": {},
   "outputs": [],
   "source": [
    "from sklearn.feature_selection import SelectKBest, chi2,f_classif"
   ]
  },
  {
   "cell_type": "code",
   "execution_count": 380,
   "metadata": {},
   "outputs": [
    {
     "data": {
      "text/plain": [
       "Index(['age', 'weight', 'bmi', 'blood_pressure', 'insulin_test',\n",
       "       'liver_stress_test', 'cardio_stress_test', 'years_smoking',\n",
       "       'zeta_disease'],\n",
       "      dtype='object')"
      ]
     },
     "execution_count": 380,
     "metadata": {},
     "output_type": "execute_result"
    }
   ],
   "source": [
    "train_data.columns"
   ]
  },
  {
   "cell_type": "code",
   "execution_count": 381,
   "metadata": {},
   "outputs": [],
   "source": [
    "zeta_y= train_data[\"zeta_disease\"]\n",
    "zeta_x= train_data.drop([\"zeta_disease\"], axis=1)"
   ]
  },
  {
   "cell_type": "code",
   "execution_count": 382,
   "metadata": {},
   "outputs": [
    {
     "name": "stdout",
     "output_type": "stream",
     "text": [
      "           Specs        Score\n",
      "4   insulin_test  2376.103323\n",
      "1         weight  1049.672603\n",
      "0            age   183.418070\n",
      "2            bmi   134.027259\n",
      "7  years_smoking   131.142971\n"
     ]
    }
   ],
   "source": [
    "#apply SelectKBest class to extract top 10 best features\n",
    "X = zeta_x #independent columns\n",
    "y = zeta_y    #target column i.e price range\n",
    "bestfeatures = SelectKBest(score_func=chi2, k='all')\n",
    "fit = bestfeatures.fit(X,y)\n",
    "dfscores = pd.DataFrame(fit.scores_)\n",
    "dfcolumns = pd.DataFrame(X.columns)\n",
    "#concat two dataframes for better visualization \n",
    "featureScores = pd.concat([dfcolumns,dfscores],axis=1)\n",
    "featureScores.columns = ['Specs','Score']  #naming the dataframe columns\n",
    "print(featureScores.nlargest(5,'Score'))  #print 10 best features"
   ]
  },
  {
   "cell_type": "code",
   "execution_count": 383,
   "metadata": {},
   "outputs": [
    {
     "name": "stdout",
     "output_type": "stream",
     "text": [
      "Index(['age', 'weight', 'bmi', 'insulin_test', 'years_smoking',\n",
      "       'zeta_disease'],\n",
      "      dtype='object')\n"
     ]
    }
   ],
   "source": [
    "chi_feat = train_data.drop(['cardio_stress_test', 'liver_stress_test','blood_pressure'],axis=1)\n",
    "print(chi_feat.columns)"
   ]
  },
  {
   "cell_type": "code",
   "execution_count": 384,
   "metadata": {},
   "outputs": [],
   "source": [
    "X_New = chi_feat.iloc[:, 0:4].values\n",
    "y_New = chi_feat.iloc[:, 5].values"
   ]
  },
  {
   "cell_type": "code",
   "execution_count": 385,
   "metadata": {},
   "outputs": [
    {
     "name": "stdout",
     "output_type": "stream",
     "text": [
      "(600, 4) (600,)\n",
      "(200, 4) (200,)\n"
     ]
    }
   ],
   "source": [
    "# Splitting Data Sets into Trainig and Test data sets\n",
    "X_train, X_test, y_train, y_test = train_test_split(X_New,y_New, test_size=0.25,random_state=123)\n",
    "print (X_train.shape, y_train.shape)\n",
    "print (X_test.shape, y_test.shape)"
   ]
  },
  {
   "cell_type": "code",
   "execution_count": 386,
   "metadata": {},
   "outputs": [],
   "source": [
    "from sklearn.preprocessing import MinMaxScaler\n",
    "sc = MinMaxScaler()\n",
    "X_train = sc.fit_transform(X_train)\n",
    "X_test = sc.transform(X_test)\n",
    "\n",
    "# from sklearn.preprocessing import StandardScaler\n",
    "# sc = StandardScaler()\n",
    "# X_train = sc.fit_transform(X_train)\n",
    "# X_test = sc.transform(X_test)\n"
   ]
  },
  {
   "cell_type": "code",
   "execution_count": 390,
   "metadata": {},
   "outputs": [],
   "source": [
    "# Building Support Vector Meachines Kernal=rbf\n",
    "\n",
    "from sklearn.svm import SVC\n",
    "svclassifier = SVC(\n",
    "                    C=1.0,\n",
    "                    kernel='rbf',\n",
    "                    gamma='scale',\n",
    "                    class_weight=None,\n",
    "                    verbose=False,\n",
    "                    max_iter=-1,\n",
    "                    decision_function_shape='ovr',\n",
    "                    break_ties=False,\n",
    "                    random_state=None,\n",
    "                    )\n",
    "svclassifier.fit(X_train, y_train)\n",
    "\n",
    "y_pred_rbf = svclassifier.predict(X_test)"
   ]
  },
  {
   "cell_type": "code",
   "execution_count": 393,
   "metadata": {},
   "outputs": [
    {
     "name": "stdout",
     "output_type": "stream",
     "text": [
      "SVC Accuracy with Chi Square: 79.50%\n"
     ]
    }
   ],
   "source": [
    "from sklearn import metrics\n",
    "from sklearn.metrics import classification_report, confusion_matrix\n",
    "# print(confusion_matrix(y_test, y_pred_rbf))\n",
    "# print(classification_report(y_test, y_pred_rbf))\n",
    "print(\"SVC Accuracy with Chi Square: %.2f%%\" % (metrics.accuracy_score(y_test, y_pred_rbf) * 100.0))"
   ]
  },
  {
   "cell_type": "code",
   "execution_count": 394,
   "metadata": {},
   "outputs": [
    {
     "name": "stdout",
     "output_type": "stream",
     "text": [
      "               Specs       Score\n",
      "1             weight  227.689516\n",
      "2                bmi   63.683287\n",
      "7      years_smoking   31.631174\n",
      "0                age   30.849898\n",
      "5  liver_stress_test   28.196432\n"
     ]
    }
   ],
   "source": [
    "#apply SelectKBest class to extract top 10 best features\n",
    "X = zeta_x #independent columns\n",
    "y = zeta_y    #target column i.e price range\n",
    "bestfeatures = SelectKBest(score_func=f_classif, k='all')\n",
    "fit = bestfeatures.fit(X,y)\n",
    "dfscores = pd.DataFrame(fit.scores_)\n",
    "dfcolumns = pd.DataFrame(X.columns)\n",
    "#concat two dataframes for better visualization \n",
    "featureScores = pd.concat([dfcolumns,dfscores],axis=1)\n",
    "featureScores.columns = ['Specs','Score']  #naming the dataframe columns\n",
    "print(featureScores.nlargest(5,'Score'))  #print 10 best features\n",
    "# featureScores.nlargest(12,'Score').to_excel(os.getcwd() + \"//CallOut Prediction//NE//\" + \"f_classif\"+ datetime.now().strftime(\"_%Y%m%d_%H_%M_%S\") + '.xlsx',encoding='utf-8')"
   ]
  },
  {
   "cell_type": "code",
   "execution_count": 281,
   "metadata": {},
   "outputs": [
    {
     "data": {
      "text/plain": [
       "Index(['age', 'weight', 'bmi', 'blood_pressure', 'insulin_test',\n",
       "       'liver_stress_test', 'cardio_stress_test', 'years_smoking',\n",
       "       'zeta_disease'],\n",
       "      dtype='object')"
      ]
     },
     "execution_count": 281,
     "metadata": {},
     "output_type": "execute_result"
    }
   ],
   "source": [
    "train_data.columns"
   ]
  },
  {
   "cell_type": "code",
   "execution_count": 395,
   "metadata": {},
   "outputs": [
    {
     "name": "stdout",
     "output_type": "stream",
     "text": [
      "Index(['age', 'weight', 'bmi', 'liver_stress_test', 'years_smoking',\n",
      "       'zeta_disease'],\n",
      "      dtype='object')\n"
     ]
    }
   ],
   "source": [
    "fclass_feat = train_data.drop(['cardio_stress_test','insulin_test','blood_pressure'],axis=1)\n",
    "print(fclass_feat.columns)"
   ]
  },
  {
   "cell_type": "code",
   "execution_count": 396,
   "metadata": {},
   "outputs": [],
   "source": [
    "X_variables=fclass_feat.drop(['zeta_disease'], axis=1).columns\n",
    "Y_variables='zeta_disease'"
   ]
  },
  {
   "cell_type": "code",
   "execution_count": 397,
   "metadata": {},
   "outputs": [],
   "source": [
    "#Split train and test\n",
    "X_train, X_test, Y_train, Y_test = train_test_split(final_feat[X_variables],final_feat[Y_variables], test_size=0.25,random_state=123)"
   ]
  },
  {
   "cell_type": "code",
   "execution_count": 398,
   "metadata": {},
   "outputs": [
    {
     "name": "stdout",
     "output_type": "stream",
     "text": [
      "(600, 5) (600,)\n",
      "(200, 5) (200,)\n"
     ]
    }
   ],
   "source": [
    "# Splitting Data Sets into Trainig and Test data sets\n",
    "# X_train, X_test, y_train, y_test = train_test_split(X_New,y_New, test_size=0.25,random_state=123)\n",
    "print (X_train.shape, y_train.shape)\n",
    "print (X_test.shape, y_test.shape)"
   ]
  },
  {
   "cell_type": "code",
   "execution_count": 291,
   "metadata": {},
   "outputs": [
    {
     "name": "stdout",
     "output_type": "stream",
     "text": [
      "Index(['age', 'weight', 'bmi', 'liver_stress_test', 'years_smoking'], dtype='object')\n",
      "Index(['age', 'weight', 'bmi', 'liver_stress_test', 'years_smoking'], dtype='object')\n"
     ]
    }
   ],
   "source": [
    "print(X_train.columns)\n",
    "print(X_test.columns)"
   ]
  },
  {
   "cell_type": "code",
   "execution_count": 399,
   "metadata": {},
   "outputs": [],
   "source": [
    "# from sklearn.preprocessing import MinMaxScaler\n",
    "# sc = MinMaxScaler()\n",
    "# X_train = sc.fit_transform(X_train)\n",
    "# X_test = sc.transform(X_test)\n",
    "\n",
    "from sklearn.preprocessing import StandardScaler\n",
    "sc = StandardScaler()\n",
    "X_train = sc.fit_transform(X_train)\n",
    "X_test = sc.transform(X_test)"
   ]
  },
  {
   "cell_type": "code",
   "execution_count": 400,
   "metadata": {},
   "outputs": [],
   "source": [
    "# Building Support Vector Meachines Kernal=rbf\n",
    "\n",
    "from sklearn.svm import SVC\n",
    "svclassifier = SVC(\n",
    "                    C=1.0,\n",
    "                    kernel='rbf',\n",
    "                    gamma='scale',\n",
    "                    class_weight=None,\n",
    "                    verbose=False,\n",
    "                    max_iter=-1,\n",
    "                    decision_function_shape='ovr',\n",
    "                    break_ties=False,\n",
    "                    random_state=None,\n",
    "                    )\n",
    "svclassifier.fit(X_train, y_train)\n",
    "\n",
    "y_pred_rbf = svclassifier.predict(X_test)"
   ]
  },
  {
   "cell_type": "code",
   "execution_count": 402,
   "metadata": {},
   "outputs": [
    {
     "name": "stdout",
     "output_type": "stream",
     "text": [
      "[[119  10]\n",
      " [ 30  41]]\n",
      "              precision    recall  f1-score   support\n",
      "\n",
      "           0       0.80      0.92      0.86       129\n",
      "           1       0.80      0.58      0.67        71\n",
      "\n",
      "    accuracy                           0.80       200\n",
      "   macro avg       0.80      0.75      0.76       200\n",
      "weighted avg       0.80      0.80      0.79       200\n",
      "\n",
      "SVC Accuracy with ANOVA: 80.00%\n"
     ]
    }
   ],
   "source": [
    "print(confusion_matrix(y_test, y_pred_rbf))\n",
    "print(classification_report(y_test, y_pred_rbf))\n",
    "print(\"SVC Accuracy with ANOVA: %.2f%%\" % (metrics.accuracy_score(y_test, y_pred_rbf) * 100.0))"
   ]
  },
  {
   "cell_type": "markdown",
   "metadata": {},
   "source": [
    "# Integrate prediction data"
   ]
  },
  {
   "cell_type": "code",
   "execution_count": 403,
   "metadata": {},
   "outputs": [
    {
     "data": {
      "text/html": [
       "<div>\n",
       "<style scoped>\n",
       "    .dataframe tbody tr th:only-of-type {\n",
       "        vertical-align: middle;\n",
       "    }\n",
       "\n",
       "    .dataframe tbody tr th {\n",
       "        vertical-align: top;\n",
       "    }\n",
       "\n",
       "    .dataframe thead th {\n",
       "        text-align: right;\n",
       "    }\n",
       "</style>\n",
       "<table border=\"1\" class=\"dataframe\">\n",
       "  <thead>\n",
       "    <tr style=\"text-align: right;\">\n",
       "      <th></th>\n",
       "      <th>age</th>\n",
       "      <th>weight</th>\n",
       "      <th>bmi</th>\n",
       "      <th>blood_pressure</th>\n",
       "      <th>insulin_test</th>\n",
       "      <th>liver_stress_test</th>\n",
       "      <th>cardio_stress_test</th>\n",
       "      <th>years_smoking</th>\n",
       "      <th>zeta_disease</th>\n",
       "    </tr>\n",
       "  </thead>\n",
       "  <tbody>\n",
       "    <tr>\n",
       "      <th>0</th>\n",
       "      <td>24</td>\n",
       "      <td>151</td>\n",
       "      <td>39.5</td>\n",
       "      <td>69</td>\n",
       "      <td>72</td>\n",
       "      <td>1.3968</td>\n",
       "      <td>56</td>\n",
       "      <td>4</td>\n",
       "      <td>NaN</td>\n",
       "    </tr>\n",
       "    <tr>\n",
       "      <th>1</th>\n",
       "      <td>27</td>\n",
       "      <td>179</td>\n",
       "      <td>35.5</td>\n",
       "      <td>89</td>\n",
       "      <td>156</td>\n",
       "      <td>1.6608</td>\n",
       "      <td>43</td>\n",
       "      <td>6</td>\n",
       "      <td>NaN</td>\n",
       "    </tr>\n",
       "    <tr>\n",
       "      <th>2</th>\n",
       "      <td>34</td>\n",
       "      <td>147</td>\n",
       "      <td>26.9</td>\n",
       "      <td>76</td>\n",
       "      <td>74</td>\n",
       "      <td>1.6958</td>\n",
       "      <td>53</td>\n",
       "      <td>2</td>\n",
       "      <td>NaN</td>\n",
       "    </tr>\n",
       "    <tr>\n",
       "      <th>3</th>\n",
       "      <td>35</td>\n",
       "      <td>206</td>\n",
       "      <td>32.4</td>\n",
       "      <td>73</td>\n",
       "      <td>127</td>\n",
       "      <td>1.4608</td>\n",
       "      <td>61</td>\n",
       "      <td>6</td>\n",
       "      <td>NaN</td>\n",
       "    </tr>\n",
       "    <tr>\n",
       "      <th>4</th>\n",
       "      <td>60</td>\n",
       "      <td>193</td>\n",
       "      <td>29.8</td>\n",
       "      <td>62</td>\n",
       "      <td>192</td>\n",
       "      <td>1.7798</td>\n",
       "      <td>65</td>\n",
       "      <td>9</td>\n",
       "      <td>NaN</td>\n",
       "    </tr>\n",
       "  </tbody>\n",
       "</table>\n",
       "</div>"
      ],
      "text/plain": [
       "   age  weight   bmi  blood_pressure  insulin_test  liver_stress_test  \\\n",
       "0   24     151  39.5              69            72             1.3968   \n",
       "1   27     179  35.5              89           156             1.6608   \n",
       "2   34     147  26.9              76            74             1.6958   \n",
       "3   35     206  32.4              73           127             1.4608   \n",
       "4   60     193  29.8              62           192             1.7798   \n",
       "\n",
       "   cardio_stress_test  years_smoking  zeta_disease  \n",
       "0                  56              4           NaN  \n",
       "1                  43              6           NaN  \n",
       "2                  53              2           NaN  \n",
       "3                  61              6           NaN  \n",
       "4                  65              9           NaN  "
      ]
     },
     "execution_count": 403,
     "metadata": {},
     "output_type": "execute_result"
    }
   ],
   "source": [
    "prediction_data.head()"
   ]
  },
  {
   "cell_type": "code",
   "execution_count": 404,
   "metadata": {},
   "outputs": [
    {
     "name": "stdout",
     "output_type": "stream",
     "text": [
      "Index(['age', 'weight', 'bmi', 'liver_stress_test', 'years_smoking'], dtype='object')\n"
     ]
    }
   ],
   "source": [
    "# Drop features based on ANOVA feature selection\n",
    "final_test = prediction_data.drop(['cardio_stress_test','insulin_test','blood_pressure','zeta_disease'],axis=1)\n",
    "print(final_test.columns)"
   ]
  },
  {
   "cell_type": "code",
   "execution_count": 405,
   "metadata": {},
   "outputs": [],
   "source": [
    "X_test_pred = sc.transform(final_test)"
   ]
  },
  {
   "cell_type": "code",
   "execution_count": 406,
   "metadata": {},
   "outputs": [],
   "source": [
    "y_pred_test = svclassifier.predict(X_test_pred)"
   ]
  },
  {
   "cell_type": "code",
   "execution_count": 407,
   "metadata": {},
   "outputs": [],
   "source": [
    "prediction_data['zeta_disease']=y_pred_test"
   ]
  },
  {
   "cell_type": "code",
   "execution_count": 408,
   "metadata": {},
   "outputs": [
    {
     "data": {
      "text/html": [
       "<div>\n",
       "<style scoped>\n",
       "    .dataframe tbody tr th:only-of-type {\n",
       "        vertical-align: middle;\n",
       "    }\n",
       "\n",
       "    .dataframe tbody tr th {\n",
       "        vertical-align: top;\n",
       "    }\n",
       "\n",
       "    .dataframe thead th {\n",
       "        text-align: right;\n",
       "    }\n",
       "</style>\n",
       "<table border=\"1\" class=\"dataframe\">\n",
       "  <thead>\n",
       "    <tr style=\"text-align: right;\">\n",
       "      <th></th>\n",
       "      <th>age</th>\n",
       "      <th>weight</th>\n",
       "      <th>bmi</th>\n",
       "      <th>blood_pressure</th>\n",
       "      <th>insulin_test</th>\n",
       "      <th>liver_stress_test</th>\n",
       "      <th>cardio_stress_test</th>\n",
       "      <th>years_smoking</th>\n",
       "      <th>zeta_disease</th>\n",
       "    </tr>\n",
       "  </thead>\n",
       "  <tbody>\n",
       "    <tr>\n",
       "      <th>0</th>\n",
       "      <td>24</td>\n",
       "      <td>151</td>\n",
       "      <td>39.5</td>\n",
       "      <td>69</td>\n",
       "      <td>72</td>\n",
       "      <td>1.3968</td>\n",
       "      <td>56</td>\n",
       "      <td>4</td>\n",
       "      <td>1</td>\n",
       "    </tr>\n",
       "    <tr>\n",
       "      <th>1</th>\n",
       "      <td>27</td>\n",
       "      <td>179</td>\n",
       "      <td>35.5</td>\n",
       "      <td>89</td>\n",
       "      <td>156</td>\n",
       "      <td>1.6608</td>\n",
       "      <td>43</td>\n",
       "      <td>6</td>\n",
       "      <td>1</td>\n",
       "    </tr>\n",
       "    <tr>\n",
       "      <th>2</th>\n",
       "      <td>34</td>\n",
       "      <td>147</td>\n",
       "      <td>26.9</td>\n",
       "      <td>76</td>\n",
       "      <td>74</td>\n",
       "      <td>1.6958</td>\n",
       "      <td>53</td>\n",
       "      <td>2</td>\n",
       "      <td>0</td>\n",
       "    </tr>\n",
       "    <tr>\n",
       "      <th>3</th>\n",
       "      <td>35</td>\n",
       "      <td>206</td>\n",
       "      <td>32.4</td>\n",
       "      <td>73</td>\n",
       "      <td>127</td>\n",
       "      <td>1.4608</td>\n",
       "      <td>61</td>\n",
       "      <td>6</td>\n",
       "      <td>1</td>\n",
       "    </tr>\n",
       "    <tr>\n",
       "      <th>4</th>\n",
       "      <td>60</td>\n",
       "      <td>193</td>\n",
       "      <td>29.8</td>\n",
       "      <td>62</td>\n",
       "      <td>192</td>\n",
       "      <td>1.7798</td>\n",
       "      <td>65</td>\n",
       "      <td>9</td>\n",
       "      <td>1</td>\n",
       "    </tr>\n",
       "    <tr>\n",
       "      <th>5</th>\n",
       "      <td>45</td>\n",
       "      <td>120</td>\n",
       "      <td>36.5</td>\n",
       "      <td>108</td>\n",
       "      <td>50</td>\n",
       "      <td>1.2978</td>\n",
       "      <td>54</td>\n",
       "      <td>12</td>\n",
       "      <td>1</td>\n",
       "    </tr>\n",
       "    <tr>\n",
       "      <th>6</th>\n",
       "      <td>20</td>\n",
       "      <td>139</td>\n",
       "      <td>38.2</td>\n",
       "      <td>61</td>\n",
       "      <td>77</td>\n",
       "      <td>1.5818</td>\n",
       "      <td>68</td>\n",
       "      <td>3</td>\n",
       "      <td>0</td>\n",
       "    </tr>\n",
       "    <tr>\n",
       "      <th>7</th>\n",
       "      <td>23</td>\n",
       "      <td>137</td>\n",
       "      <td>31.2</td>\n",
       "      <td>70</td>\n",
       "      <td>73</td>\n",
       "      <td>1.4168</td>\n",
       "      <td>59</td>\n",
       "      <td>7</td>\n",
       "      <td>0</td>\n",
       "    </tr>\n",
       "    <tr>\n",
       "      <th>8</th>\n",
       "      <td>36</td>\n",
       "      <td>195</td>\n",
       "      <td>30.5</td>\n",
       "      <td>59</td>\n",
       "      <td>141</td>\n",
       "      <td>1.4498</td>\n",
       "      <td>59</td>\n",
       "      <td>6</td>\n",
       "      <td>1</td>\n",
       "    </tr>\n",
       "    <tr>\n",
       "      <th>9</th>\n",
       "      <td>19</td>\n",
       "      <td>193</td>\n",
       "      <td>25.8</td>\n",
       "      <td>84</td>\n",
       "      <td>66</td>\n",
       "      <td>1.7938</td>\n",
       "      <td>50</td>\n",
       "      <td>3</td>\n",
       "      <td>1</td>\n",
       "    </tr>\n",
       "    <tr>\n",
       "      <th>10</th>\n",
       "      <td>47</td>\n",
       "      <td>216</td>\n",
       "      <td>34.7</td>\n",
       "      <td>70</td>\n",
       "      <td>170</td>\n",
       "      <td>1.7238</td>\n",
       "      <td>58</td>\n",
       "      <td>7</td>\n",
       "      <td>1</td>\n",
       "    </tr>\n",
       "    <tr>\n",
       "      <th>11</th>\n",
       "      <td>40</td>\n",
       "      <td>200</td>\n",
       "      <td>30.4</td>\n",
       "      <td>69</td>\n",
       "      <td>128</td>\n",
       "      <td>1.3118</td>\n",
       "      <td>60</td>\n",
       "      <td>3</td>\n",
       "      <td>1</td>\n",
       "    </tr>\n",
       "    <tr>\n",
       "      <th>12</th>\n",
       "      <td>21</td>\n",
       "      <td>154</td>\n",
       "      <td>46.5</td>\n",
       "      <td>88</td>\n",
       "      <td>121</td>\n",
       "      <td>1.2498</td>\n",
       "      <td>68</td>\n",
       "      <td>4</td>\n",
       "      <td>0</td>\n",
       "    </tr>\n",
       "    <tr>\n",
       "      <th>13</th>\n",
       "      <td>52</td>\n",
       "      <td>196</td>\n",
       "      <td>31.3</td>\n",
       "      <td>90</td>\n",
       "      <td>167</td>\n",
       "      <td>1.9238</td>\n",
       "      <td>66</td>\n",
       "      <td>10</td>\n",
       "      <td>1</td>\n",
       "    </tr>\n",
       "    <tr>\n",
       "      <th>14</th>\n",
       "      <td>30</td>\n",
       "      <td>181</td>\n",
       "      <td>37.4</td>\n",
       "      <td>93</td>\n",
       "      <td>157</td>\n",
       "      <td>2.0508</td>\n",
       "      <td>80</td>\n",
       "      <td>5</td>\n",
       "      <td>1</td>\n",
       "    </tr>\n",
       "    <tr>\n",
       "      <th>15</th>\n",
       "      <td>46</td>\n",
       "      <td>213</td>\n",
       "      <td>26.5</td>\n",
       "      <td>70</td>\n",
       "      <td>133</td>\n",
       "      <td>1.4788</td>\n",
       "      <td>55</td>\n",
       "      <td>12</td>\n",
       "      <td>1</td>\n",
       "    </tr>\n",
       "    <tr>\n",
       "      <th>16</th>\n",
       "      <td>29</td>\n",
       "      <td>173</td>\n",
       "      <td>50.7</td>\n",
       "      <td>91</td>\n",
       "      <td>221</td>\n",
       "      <td>1.4878</td>\n",
       "      <td>83</td>\n",
       "      <td>3</td>\n",
       "      <td>1</td>\n",
       "    </tr>\n",
       "    <tr>\n",
       "      <th>17</th>\n",
       "      <td>36</td>\n",
       "      <td>202</td>\n",
       "      <td>42.8</td>\n",
       "      <td>72</td>\n",
       "      <td>273</td>\n",
       "      <td>1.8748</td>\n",
       "      <td>72</td>\n",
       "      <td>13</td>\n",
       "      <td>1</td>\n",
       "    </tr>\n",
       "    <tr>\n",
       "      <th>18</th>\n",
       "      <td>27</td>\n",
       "      <td>197</td>\n",
       "      <td>29.1</td>\n",
       "      <td>72</td>\n",
       "      <td>362</td>\n",
       "      <td>1.4298</td>\n",
       "      <td>69</td>\n",
       "      <td>4</td>\n",
       "      <td>1</td>\n",
       "    </tr>\n",
       "    <tr>\n",
       "      <th>19</th>\n",
       "      <td>44</td>\n",
       "      <td>184</td>\n",
       "      <td>33.9</td>\n",
       "      <td>104</td>\n",
       "      <td>141</td>\n",
       "      <td>1.3268</td>\n",
       "      <td>60</td>\n",
       "      <td>2</td>\n",
       "      <td>1</td>\n",
       "    </tr>\n",
       "  </tbody>\n",
       "</table>\n",
       "</div>"
      ],
      "text/plain": [
       "    age  weight   bmi  blood_pressure  insulin_test  liver_stress_test  \\\n",
       "0    24     151  39.5              69            72             1.3968   \n",
       "1    27     179  35.5              89           156             1.6608   \n",
       "2    34     147  26.9              76            74             1.6958   \n",
       "3    35     206  32.4              73           127             1.4608   \n",
       "4    60     193  29.8              62           192             1.7798   \n",
       "5    45     120  36.5             108            50             1.2978   \n",
       "6    20     139  38.2              61            77             1.5818   \n",
       "7    23     137  31.2              70            73             1.4168   \n",
       "8    36     195  30.5              59           141             1.4498   \n",
       "9    19     193  25.8              84            66             1.7938   \n",
       "10   47     216  34.7              70           170             1.7238   \n",
       "11   40     200  30.4              69           128             1.3118   \n",
       "12   21     154  46.5              88           121             1.2498   \n",
       "13   52     196  31.3              90           167             1.9238   \n",
       "14   30     181  37.4              93           157             2.0508   \n",
       "15   46     213  26.5              70           133             1.4788   \n",
       "16   29     173  50.7              91           221             1.4878   \n",
       "17   36     202  42.8              72           273             1.8748   \n",
       "18   27     197  29.1              72           362             1.4298   \n",
       "19   44     184  33.9             104           141             1.3268   \n",
       "\n",
       "    cardio_stress_test  years_smoking  zeta_disease  \n",
       "0                   56              4             1  \n",
       "1                   43              6             1  \n",
       "2                   53              2             0  \n",
       "3                   61              6             1  \n",
       "4                   65              9             1  \n",
       "5                   54             12             1  \n",
       "6                   68              3             0  \n",
       "7                   59              7             0  \n",
       "8                   59              6             1  \n",
       "9                   50              3             1  \n",
       "10                  58              7             1  \n",
       "11                  60              3             1  \n",
       "12                  68              4             0  \n",
       "13                  66             10             1  \n",
       "14                  80              5             1  \n",
       "15                  55             12             1  \n",
       "16                  83              3             1  \n",
       "17                  72             13             1  \n",
       "18                  69              4             1  \n",
       "19                  60              2             1  "
      ]
     },
     "execution_count": 408,
     "metadata": {},
     "output_type": "execute_result"
    }
   ],
   "source": [
    "test_data.head(20)"
   ]
  }
 ],
 "metadata": {
  "celltoolbar": "Raw Cell Format",
  "kernelspec": {
   "display_name": "Python 3",
   "language": "python",
   "name": "python3"
  },
  "language_info": {
   "codemirror_mode": {
    "name": "ipython",
    "version": 3
   },
   "file_extension": ".py",
   "mimetype": "text/x-python",
   "name": "python",
   "nbconvert_exporter": "python",
   "pygments_lexer": "ipython3",
   "version": "3.6.5"
  }
 },
 "nbformat": 4,
 "nbformat_minor": 4
}
